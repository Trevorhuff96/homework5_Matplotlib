{
 "cells": [
  {
   "cell_type": "code",
   "execution_count": 1,
   "metadata": {},
   "outputs": [],
   "source": [
    "%matplotlib inline\n",
    "# Dependencies and Setup\n",
    "import matplotlib.pyplot as plt\n",
    "import pandas as pd\n",
    "import numpy as np\n",
    "\n",
    "# File to Load (Remember to change these)\n",
    "city_data_to_load = \"data/city_data.csv\"\n",
    "ride_data_to_load = \"data/ride_data.csv\"\n",
    "\n",
    "# Read the City and Ride Data\n",
    "\n",
    "# Combine the data into a single dataset\n",
    "\n",
    "# Display the data table for preview\n"
   ]
  },
  {
   "cell_type": "code",
   "execution_count": 2,
   "metadata": {
    "scrolled": true
   },
   "outputs": [],
   "source": [
    "city_csv=pd.read_csv(city_data_to_load)\n",
    "ride_csv=pd.read_csv(ride_data_to_load)"
   ]
  },
  {
   "cell_type": "code",
   "execution_count": null,
   "metadata": {
    "scrolled": true
   },
   "outputs": [],
   "source": []
  },
  {
   "cell_type": "code",
   "execution_count": null,
   "metadata": {},
   "outputs": [],
   "source": []
  },
  {
   "cell_type": "code",
   "execution_count": 57,
   "metadata": {},
   "outputs": [],
   "source": [
    "combined_data=pd.merge(ride_csv,city_csv,how=\"left\", on=[\"city\",\"city\"])\n",
    "combined_data.head(20)"
   ]
  },
  {
   "cell_type": "markdown",
   "metadata": {},
   "source": [
    "## Bubble Plot of Ride Sharing Data"
   ]
  },
  {
   "cell_type": "code",
   "execution_count": 4,
   "metadata": {},
   "outputs": [],
   "source": [
    "#group the data by city type\n",
    "city_type=combined_data.groupby('city')"
   ]
  },
  {
   "cell_type": "code",
   "execution_count": 5,
   "metadata": {
    "scrolled": true
   },
   "outputs": [],
   "source": [
    "#create a Series that links each city with their respective city type\n",
    "city_types_test=city_csv.set_index('city')['type']"
   ]
  },
  {
   "cell_type": "markdown",
   "metadata": {},
   "source": [
    "#THE INDEX IS NOT RIGHT, FIGURE OUT HOW TO SYNC the TWO INDEXS"
   ]
  },
  {
   "cell_type": "code",
   "execution_count": 6,
   "metadata": {},
   "outputs": [],
   "source": [
    "#create series that holds each city's average fair"
   ]
  },
  {
   "cell_type": "code",
   "execution_count": 7,
   "metadata": {},
   "outputs": [],
   "source": [
    "city_avg_fare=combined_data.groupby('city')['fare'].mean()"
   ]
  },
  {
   "cell_type": "code",
   "execution_count": 8,
   "metadata": {},
   "outputs": [],
   "source": [
    "driver_count_per=city_csv.set_index('city')['driver_count']"
   ]
  },
  {
   "cell_type": "code",
   "execution_count": 58,
   "metadata": {},
   "outputs": [
    {
     "data": {
      "text/html": [
       "<div>\n",
       "<style scoped>\n",
       "    .dataframe tbody tr th:only-of-type {\n",
       "        vertical-align: middle;\n",
       "    }\n",
       "\n",
       "    .dataframe tbody tr th {\n",
       "        vertical-align: top;\n",
       "    }\n",
       "\n",
       "    .dataframe thead th {\n",
       "        text-align: right;\n",
       "    }\n",
       "</style>\n",
       "<table border=\"1\" class=\"dataframe\">\n",
       "  <thead>\n",
       "    <tr style=\"text-align: right;\">\n",
       "      <th></th>\n",
       "      <th>total rides</th>\n",
       "      <th>Type</th>\n",
       "      <th>Total Fare</th>\n",
       "      <th>Avg Fare</th>\n",
       "      <th>Driver Count</th>\n",
       "    </tr>\n",
       "    <tr>\n",
       "      <th>city</th>\n",
       "      <th></th>\n",
       "      <th></th>\n",
       "      <th></th>\n",
       "      <th></th>\n",
       "      <th></th>\n",
       "    </tr>\n",
       "  </thead>\n",
       "  <tbody>\n",
       "    <tr>\n",
       "      <th>Amandaburgh</th>\n",
       "      <td>18</td>\n",
       "      <td>Urban</td>\n",
       "      <td>443.55</td>\n",
       "      <td>24</td>\n",
       "      <td>12</td>\n",
       "    </tr>\n",
       "    <tr>\n",
       "      <th>Barajasview</th>\n",
       "      <td>22</td>\n",
       "      <td>Urban</td>\n",
       "      <td>557.31</td>\n",
       "      <td>25</td>\n",
       "      <td>26</td>\n",
       "    </tr>\n",
       "    <tr>\n",
       "      <th>Barronchester</th>\n",
       "      <td>16</td>\n",
       "      <td>Suburban</td>\n",
       "      <td>582.76</td>\n",
       "      <td>36</td>\n",
       "      <td>11</td>\n",
       "    </tr>\n",
       "    <tr>\n",
       "      <th>Bethanyland</th>\n",
       "      <td>18</td>\n",
       "      <td>Suburban</td>\n",
       "      <td>593.21</td>\n",
       "      <td>32</td>\n",
       "      <td>22</td>\n",
       "    </tr>\n",
       "    <tr>\n",
       "      <th>Bradshawfurt</th>\n",
       "      <td>10</td>\n",
       "      <td>Rural</td>\n",
       "      <td>400.64</td>\n",
       "      <td>40</td>\n",
       "      <td>7</td>\n",
       "    </tr>\n",
       "  </tbody>\n",
       "</table>\n",
       "</div>"
      ],
      "text/plain": [
       "               total rides      Type  Total Fare  Avg Fare  Driver Count\n",
       "city                                                                    \n",
       "Amandaburgh             18     Urban      443.55        24            12\n",
       "Barajasview             22     Urban      557.31        25            26\n",
       "Barronchester           16  Suburban      582.76        36            11\n",
       "Bethanyland             18  Suburban      593.21        32            22\n",
       "Bradshawfurt            10     Rural      400.64        40             7"
      ]
     },
     "execution_count": 58,
     "metadata": {},
     "output_type": "execute_result"
    }
   ],
   "source": [
    "#find total rides per city type\n",
    "\n",
    "#create Dataframe to hold the series you created above\n",
    "#Dataframe holds how total rides per city\n",
    "total_rides_per_city=pd.DataFrame(city_type['ride_id'].count())\n",
    "#rename the column\n",
    "total_rides_per_city=total_rides_per_city.rename({'ride_id':'total rides'}, axis=1)\n",
    "total_rides_per_city.head()\n",
    "#create new column to hold each city's type\n",
    "total_rides_per_city['Type']=city_types_test\n",
    "#create new column to hold each city's average fare\n",
    "total_rides_per_city['Total Fare']=combined_data.groupby('city')['fare'].sum()\n",
    "total_rides_per_city['Avg Fare']=city_avg_fare.astype(int)\n",
    "total_rides_per_city['Driver Count']=driver_count_per\n",
    "total_rides_per_city.head()"
   ]
  },
  {
   "cell_type": "code",
   "execution_count": 10,
   "metadata": {},
   "outputs": [],
   "source": [
    "urbanData=total_rides_per_city.loc[total_rides_per_city['Type']=='Urban']\n",
    "subData=total_rides_per_city.loc[total_rides_per_city['Type']=='Suburban']\n",
    "ruralData=total_rides_per_city.loc[total_rides_per_city['Type']=='Rural']"
   ]
  },
  {
   "cell_type": "code",
   "execution_count": 47,
   "metadata": {},
   "outputs": [],
   "source": [
    "company_colors=[\"xkcd:Coral pink\", \"xkcd:sky blue\", \"Gold\"]"
   ]
  },
  {
   "cell_type": "code",
   "execution_count": 46,
   "metadata": {},
   "outputs": [
    {
     "data": {
      "image/png": "[encoded data removed]",
      "text/plain": [
       "<Figure size 432x288 with 1 Axes>"
      ]
     },
     "metadata": {},
     "output_type": "display_data"
    }
   ],
   "source": [
    "# create the x,y data for each city type\n",
    "urbanData=total_rides_per_city.loc[total_rides_per_city['Type']=='Urban']\n",
    "subData=total_rides_per_city.loc[total_rides_per_city['Type']=='Suburban']\n",
    "ruralData=total_rides_per_city.loc[total_rides_per_city['Type']=='Rural']\n",
    "\n",
    "\n",
    "# Build the scatter plots for each city types\n",
    "\n",
    "plt.scatter(x=urbanData['total rides'],y=urbanData['Avg Fare'],\n",
    "            s=urbanData['Driver Count']*4,c='xkcd:Coral pink',alpha=.5,linewidths=2)\n",
    "\n",
    "plt.scatter(x=subData['total rides'],y=subData['Avg Fare'],\n",
    "            s=subData['Driver Count']*4,c='xkcd:sky blue',alpha=.5, linewidths=2)\n",
    "\n",
    "plt.scatter(x=ruralData['total rides'],y=ruralData['Avg Fare'],\n",
    "            s=ruralData['Driver Count']*4,c='Gold',alpha=.5, linewidths=2)\n",
    "\n",
    "# Incorporate the other graph properties\n",
    "plt.xlabel('Total Rides Per City')\n",
    "plt.ylabel('Average Fare')\n",
    "plt.title('Pyber Ride Sharing Data (2016)')\n",
    "# Create a legend\n",
    "plt.legend(['Urban','Suburban','Rural'])\n",
    "# Incorporate a text label regarding circle size\n",
    "plt.text(x=42, y=40, s='Note: Circle size correlates' +'\\n'+ 'to driver count per city')\n",
    "# Save Figure\n",
    "plt.savefig('pyber_ride_sharing_data2016.pdf')\n",
    "# Show plot\n",
    "plt.show()"
   ]
  },
  {
   "cell_type": "code",
   "execution_count": 59,
   "metadata": {},
   "outputs": [
    {
     "data": {
      "text/html": [
       "<div>\n",
       "<style scoped>\n",
       "    .dataframe tbody tr th:only-of-type {\n",
       "        vertical-align: middle;\n",
       "    }\n",
       "\n",
       "    .dataframe tbody tr th {\n",
       "        vertical-align: top;\n",
       "    }\n",
       "\n",
       "    .dataframe thead th {\n",
       "        text-align: right;\n",
       "    }\n",
       "</style>\n",
       "<table border=\"1\" class=\"dataframe\">\n",
       "  <thead>\n",
       "    <tr style=\"text-align: right;\">\n",
       "      <th></th>\n",
       "      <th>total rides</th>\n",
       "      <th>Type</th>\n",
       "      <th>Total Fare</th>\n",
       "      <th>Avg Fare</th>\n",
       "      <th>Driver Count</th>\n",
       "    </tr>\n",
       "    <tr>\n",
       "      <th>city</th>\n",
       "      <th></th>\n",
       "      <th></th>\n",
       "      <th></th>\n",
       "      <th></th>\n",
       "      <th></th>\n",
       "    </tr>\n",
       "  </thead>\n",
       "  <tbody>\n",
       "    <tr>\n",
       "      <th>Amandaburgh</th>\n",
       "      <td>18</td>\n",
       "      <td>Urban</td>\n",
       "      <td>443.55</td>\n",
       "      <td>24</td>\n",
       "      <td>12</td>\n",
       "    </tr>\n",
       "    <tr>\n",
       "      <th>Barajasview</th>\n",
       "      <td>22</td>\n",
       "      <td>Urban</td>\n",
       "      <td>557.31</td>\n",
       "      <td>25</td>\n",
       "      <td>26</td>\n",
       "    </tr>\n",
       "    <tr>\n",
       "      <th>Barronchester</th>\n",
       "      <td>16</td>\n",
       "      <td>Suburban</td>\n",
       "      <td>582.76</td>\n",
       "      <td>36</td>\n",
       "      <td>11</td>\n",
       "    </tr>\n",
       "    <tr>\n",
       "      <th>Bethanyland</th>\n",
       "      <td>18</td>\n",
       "      <td>Suburban</td>\n",
       "      <td>593.21</td>\n",
       "      <td>32</td>\n",
       "      <td>22</td>\n",
       "    </tr>\n",
       "    <tr>\n",
       "      <th>Bradshawfurt</th>\n",
       "      <td>10</td>\n",
       "      <td>Rural</td>\n",
       "      <td>400.64</td>\n",
       "      <td>40</td>\n",
       "      <td>7</td>\n",
       "    </tr>\n",
       "  </tbody>\n",
       "</table>\n",
       "</div>"
      ],
      "text/plain": [
       "               total rides      Type  Total Fare  Avg Fare  Driver Count\n",
       "city                                                                    \n",
       "Amandaburgh             18     Urban      443.55        24            12\n",
       "Barajasview             22     Urban      557.31        25            26\n",
       "Barronchester           16  Suburban      582.76        36            11\n",
       "Bethanyland             18  Suburban      593.21        32            22\n",
       "Bradshawfurt            10     Rural      400.64        40             7"
      ]
     },
     "execution_count": 59,
     "metadata": {},
     "output_type": "execute_result"
    }
   ],
   "source": [
    "total_rides_per_city.head(5)"
   ]
  },
  {
   "cell_type": "markdown",
   "metadata": {},
   "source": [
    "## Total Fares by City Type"
   ]
  },
  {
   "cell_type": "code",
   "execution_count": 60,
   "metadata": {},
   "outputs": [
    {
     "data": {
      "image/png": "[encoded data removed]",
      "text/plain": [
       "<Figure size 432x288 with 1 Axes>"
      ]
     },
     "metadata": {},
     "output_type": "display_data"
    }
   ],
   "source": [
    "# Calculate Type Percents\n",
    "totalFares=totalFare_byCity.sum()\n",
    "urbanPerc=(total_rides_per_city.loc[total_rides_per_city['Type']=='Urban', 'Total Fare'].sum())/totalFares\n",
    "subPerc=(total_rides_per_city.loc[total_rides_per_city['Type']=='Suburban', 'Total Fare'].sum())/totalFares\n",
    "ruralPerc=(total_rides_per_city.loc[total_rides_per_city['Type']=='Rural', 'Total Fare'].sum())/totalFares\n",
    "# Build Pie Chart\n",
    "plt.pie([urbanPerc,subPerc,ruralPerc],explode=(.1,0,0),labels=[\"Urban\", \"Suburban\", \"Rural\"],\n",
    "        autopct=\"%1.1f%%\", shadow=True, colors=company_colors, startangle=90)\n",
    "plt.title(\"Total Fares by City Type\")\n",
    "# Save Figure\n",
    "plt.savefig(\"Total_Fares_By_City_Type.pdf\")\n",
    "# Show Figure\n",
    "plt.show()"
   ]
  },
  {
   "cell_type": "code",
   "execution_count": 14,
   "metadata": {},
   "outputs": [],
   "source": []
  },
  {
   "cell_type": "markdown",
   "metadata": {},
   "source": [
    "## Total Rides by City Type"
   ]
  },
  {
   "cell_type": "code",
   "execution_count": 52,
   "metadata": {},
   "outputs": [
    {
     "data": {
      "image/png": "[encoded data removed]",
      "text/plain": [
       "<Figure size 432x288 with 1 Axes>"
      ]
     },
     "metadata": {},
     "output_type": "display_data"
    }
   ],
   "source": [
    "# Calculate Ride Percents\n",
    "totalRides=total_rides_per_city[\"total rides\"].sum()\n",
    "urbanRides=(total_rides_per_city.loc[total_rides_per_city['Type']=='Urban', 'total rides'].sum())/totalRides\n",
    "subRides=(total_rides_per_city.loc[total_rides_per_city['Type']=='Suburban', 'total rides'].sum())/totalRides\n",
    "ruralRides=(total_rides_per_city.loc[total_rides_per_city['Type']=='Rural', 'total rides'].sum())/totalRides\n",
    "# Build Pie Chart\n",
    "plt.pie([urbanRides,subRides,ruralRides],explode=(.1,0,0),labels=[\"Urban\", \"Suburban\", \"Rural\"],\n",
    "        autopct=\"%1.1f%%\", shadow=True, colors=company_colors, startangle=90)\n",
    "plt.title(\"Total Rides by City Type\")\n",
    "# Save Figure\n",
    "plt.savefig(\"Total_Rides_by_City.pdf\")\n",
    "# Show Figure\n",
    "plt.show()"
   ]
  },
  {
   "cell_type": "code",
   "execution_count": 37,
   "metadata": {},
   "outputs": [
    {
     "data": {
      "text/html": [
       "<div>\n",
       "<style scoped>\n",
       "    .dataframe tbody tr th:only-of-type {\n",
       "        vertical-align: middle;\n",
       "    }\n",
       "\n",
       "    .dataframe tbody tr th {\n",
       "        vertical-align: top;\n",
       "    }\n",
       "\n",
       "    .dataframe thead th {\n",
       "        text-align: right;\n",
       "    }\n",
       "</style>\n",
       "<table border=\"1\" class=\"dataframe\">\n",
       "  <thead>\n",
       "    <tr style=\"text-align: right;\">\n",
       "      <th></th>\n",
       "      <th>total rides</th>\n",
       "      <th>Type</th>\n",
       "      <th>Avg Fare</th>\n",
       "      <th>Driver Count</th>\n",
       "    </tr>\n",
       "    <tr>\n",
       "      <th>city</th>\n",
       "      <th></th>\n",
       "      <th></th>\n",
       "      <th></th>\n",
       "      <th></th>\n",
       "    </tr>\n",
       "  </thead>\n",
       "  <tbody>\n",
       "    <tr>\n",
       "      <th>Amandaburgh</th>\n",
       "      <td>18</td>\n",
       "      <td>Urban</td>\n",
       "      <td>24</td>\n",
       "      <td>12</td>\n",
       "    </tr>\n",
       "    <tr>\n",
       "      <th>Barajasview</th>\n",
       "      <td>22</td>\n",
       "      <td>Urban</td>\n",
       "      <td>25</td>\n",
       "      <td>26</td>\n",
       "    </tr>\n",
       "    <tr>\n",
       "      <th>Barronchester</th>\n",
       "      <td>16</td>\n",
       "      <td>Suburban</td>\n",
       "      <td>36</td>\n",
       "      <td>11</td>\n",
       "    </tr>\n",
       "    <tr>\n",
       "      <th>Bethanyland</th>\n",
       "      <td>18</td>\n",
       "      <td>Suburban</td>\n",
       "      <td>32</td>\n",
       "      <td>22</td>\n",
       "    </tr>\n",
       "    <tr>\n",
       "      <th>Bradshawfurt</th>\n",
       "      <td>10</td>\n",
       "      <td>Rural</td>\n",
       "      <td>40</td>\n",
       "      <td>7</td>\n",
       "    </tr>\n",
       "  </tbody>\n",
       "</table>\n",
       "</div>"
      ],
      "text/plain": [
       "               total rides      Type  Avg Fare  Driver Count\n",
       "city                                                        \n",
       "Amandaburgh             18     Urban        24            12\n",
       "Barajasview             22     Urban        25            26\n",
       "Barronchester           16  Suburban        36            11\n",
       "Bethanyland             18  Suburban        32            22\n",
       "Bradshawfurt            10     Rural        40             7"
      ]
     },
     "execution_count": 37,
     "metadata": {},
     "output_type": "execute_result"
    }
   ],
   "source": [
    "total_rides_per_city.head(5)"
   ]
  },
  {
   "cell_type": "markdown",
   "metadata": {},
   "source": [
    "## Total Drivers by City Type"
   ]
  },
  {
   "cell_type": "code",
   "execution_count": null,
   "metadata": {},
   "outputs": [],
   "source": []
  },
  {
   "cell_type": "code",
   "execution_count": 50,
   "metadata": {
    "scrolled": true
   },
   "outputs": [
    {
     "data": {
      "image/png": "[encoded data removed]",
      "text/plain": [
       "<Figure size 432x288 with 1 Axes>"
      ]
     },
     "metadata": {},
     "output_type": "display_data"
    }
   ],
   "source": [
    "# Calculate Driver Percents\n",
    "totalDrivers=total_rides_per_city[\"Driver Count\"].sum()\n",
    "urbanDrivers=(total_rides_per_city.loc[total_rides_per_city['Type']=='Urban', 'Driver Count'].sum())/totalDrivers\n",
    "subDrivers=(total_rides_per_city.loc[total_rides_per_city['Type']=='Suburban', 'Driver Count'].sum())/totalDrivers\n",
    "ruralDrivers=(total_rides_per_city.loc[total_rides_per_city['Type']=='Rural', 'Driver Count'].sum())/totalDrivers\n",
    "# Build Pie Charts\n",
    "plt.pie([urbanDrivers,subDrivers,ruralDrivers],explode=(.1,0,0),labels=[\"Urban\", \"Suburban\", \"Rural\"],\n",
    "        autopct=\"%1.1f%%\", shadow=True, colors=company_colors)\n",
    "plt.title(\"Total Drivers by City Type\")\n",
    "# Save Figure\n",
    "plt.savefig(\"Total_Drivers_by_City.pdf\")\n",
    "# Show Figure\n",
    "plt.show()"
   ]
  },
  {
   "cell_type": "raw",
   "metadata": {},
   "source": []
  },
  {
   "cell_type": "code",
   "execution_count": 65,
   "metadata": {},
   "outputs": [
    {
     "data": {
      "text/plain": [
       "55.48628205128205"
      ]
     },
     "execution_count": 65,
     "metadata": {},
     "output_type": "execute_result"
    }
   ],
   "source": [
    "RURALDRIVE=total_rides_per_city.loc[total_rides_per_city['Type']=='Rural', 'Driver Count'].sum()\n",
    "RURALFARE=total_rides_per_city.loc[total_rides_per_city['Type']=='Rural', 'Total Fare'].sum()\n",
    "RURALFARE/RURALDRIVE\n",
    "RURALDRIVE=total_rides_per_city.loc[total_rides_per_city['Type']=='Rural', 'Driver Count'].sum()\n",
    "RURALFARE=total_rides_per_city.loc[total_rides_per_city['Type']=='Rural', 'Total Fare'].sum()"
   ]
  },
  {
   "cell_type": "code",
   "execution_count": null,
   "metadata": {},
   "outputs": [],
   "source": []
  },
  {
   "cell_type": "code",
   "execution_count": 18,
   "metadata": {
    "scrolled": true
   },
   "outputs": [],
   "source": []
  },
  {
   "cell_type": "code",
   "execution_count": null,
   "metadata": {},
   "outputs": [],
   "source": []
  }
 ],
 "metadata": {
  "anaconda-cloud": {},
  "kernelspec": {
   "display_name": "Python 3",
   "language": "python",
   "name": "python3"
  },
  "language_info": {
   "codemirror_mode": {
    "name": "ipython",
    "version": 3
   },
   "file_extension": ".py",
   "mimetype": "text/x-python",
   "name": "python",
   "nbconvert_exporter": "python",
   "pygments_lexer": "ipython3",
   "version": "3.6.5"
  }
 },
 "nbformat": 4,
 "nbformat_minor": 2
}
